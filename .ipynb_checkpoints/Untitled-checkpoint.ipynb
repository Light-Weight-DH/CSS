{
 "cells": [
  {
   "cell_type": "code",
   "execution_count": 2,
   "id": "5fd3bbb2-3d53-4bbd-9d00-63a525bd57ff",
   "metadata": {},
   "outputs": [
    {
     "name": "stdout",
     "output_type": "stream",
     "text": [
      "Collecting torch\n",
      "  Downloading torch-2.2.2-cp39-none-macosx_10_9_x86_64.whl (150.8 MB)\n",
      "\u001b[K     |████████████████████████████████| 150.8 MB 71 kB/s  eta 0:00:01    |█████████▊                      | 45.6 MB 328 kB/s eta 0:05:21     |██████████████▏                 | 66.5 MB 237 kB/s eta 0:05:55     |████████████████████████▌       | 115.7 MB 104 kB/s eta 0:05:36     |██████████████████████████▎     | 123.6 MB 107 kB/s eta 0:04:15\n",
      "\u001b[33mWARNING: Retrying (Retry(total=4, connect=None, read=None, redirect=None, status=None)) after connection broken by 'ProtocolError('Connection aborted.', ConnectionResetError(54, 'Connection reset by peer'))': /simple/torchvision/\u001b[0m\n",
      "\u001b[?25hCollecting torchvision\n",
      "  Downloading torchvision-0.17.2-cp39-cp39-macosx_10_13_x86_64.whl (1.7 MB)\n",
      "\u001b[K     |████████████████████████████████| 1.7 MB 257 kB/s eta 0:00:01\n",
      "\u001b[?25hRequirement already satisfied: jinja2 in /Users/hadong-u/opt/anaconda3/lib/python3.9/site-packages (from torch) (2.11.3)\n",
      "Requirement already satisfied: networkx in /Users/hadong-u/opt/anaconda3/lib/python3.9/site-packages (from torch) (2.6.3)\n",
      "Requirement already satisfied: fsspec in /Users/hadong-u/opt/anaconda3/lib/python3.9/site-packages (from torch) (2021.8.1)\n",
      "Requirement already satisfied: typing-extensions>=4.8.0 in /Users/hadong-u/opt/anaconda3/lib/python3.9/site-packages (from torch) (4.12.2)\n",
      "Requirement already satisfied: filelock in /Users/hadong-u/opt/anaconda3/lib/python3.9/site-packages (from torch) (3.15.4)\n",
      "Requirement already satisfied: sympy in /Users/hadong-u/opt/anaconda3/lib/python3.9/site-packages (from torch) (1.9)\n",
      "Requirement already satisfied: pillow!=8.3.*,>=5.3.0 in /Users/hadong-u/opt/anaconda3/lib/python3.9/site-packages (from torchvision) (8.4.0)\n",
      "Requirement already satisfied: numpy in /Users/hadong-u/opt/anaconda3/lib/python3.9/site-packages (from torchvision) (2.0.2)\n",
      "Requirement already satisfied: MarkupSafe>=0.23 in /Users/hadong-u/opt/anaconda3/lib/python3.9/site-packages (from jinja2->torch) (1.1.1)\n",
      "Requirement already satisfied: mpmath>=0.19 in /Users/hadong-u/opt/anaconda3/lib/python3.9/site-packages (from sympy->torch) (1.2.1)\n",
      "Installing collected packages: torch, torchvision\n",
      "Successfully installed torch-2.2.2 torchvision-0.17.2\n"
     ]
    }
   ],
   "source": [
    "!pip install torch torchvision"
   ]
  },
  {
   "cell_type": "code",
   "execution_count": 4,
   "id": "5b2be44b-6d71-4212-967d-68e0b8eec07f",
   "metadata": {},
   "outputs": [
    {
     "name": "stdout",
     "output_type": "stream",
     "text": [
      "Requirement already satisfied: torch in /Users/hadong-u/opt/anaconda3/lib/python3.9/site-packages (2.2.2)\n",
      "Requirement already satisfied: torchvision in /Users/hadong-u/opt/anaconda3/lib/python3.9/site-packages (0.17.2)\n",
      "Requirement already satisfied: networkx in /Users/hadong-u/opt/anaconda3/lib/python3.9/site-packages (from torch) (2.6.3)\n",
      "Requirement already satisfied: jinja2 in /Users/hadong-u/opt/anaconda3/lib/python3.9/site-packages (from torch) (2.11.3)\n",
      "Requirement already satisfied: filelock in /Users/hadong-u/opt/anaconda3/lib/python3.9/site-packages (from torch) (3.15.4)\n",
      "Requirement already satisfied: sympy in /Users/hadong-u/opt/anaconda3/lib/python3.9/site-packages (from torch) (1.9)\n",
      "Requirement already satisfied: fsspec in /Users/hadong-u/opt/anaconda3/lib/python3.9/site-packages (from torch) (2021.8.1)\n",
      "Requirement already satisfied: typing-extensions>=4.8.0 in /Users/hadong-u/opt/anaconda3/lib/python3.9/site-packages (from torch) (4.12.2)\n",
      "Requirement already satisfied: numpy in /Users/hadong-u/opt/anaconda3/lib/python3.9/site-packages (from torchvision) (2.0.2)\n",
      "Requirement already satisfied: pillow!=8.3.*,>=5.3.0 in /Users/hadong-u/opt/anaconda3/lib/python3.9/site-packages (from torchvision) (8.4.0)\n",
      "Requirement already satisfied: MarkupSafe>=0.23 in /Users/hadong-u/opt/anaconda3/lib/python3.9/site-packages (from jinja2->torch) (1.1.1)\n",
      "Requirement already satisfied: mpmath>=0.19 in /Users/hadong-u/opt/anaconda3/lib/python3.9/site-packages (from sympy->torch) (1.2.1)\n"
     ]
    }
   ],
   "source": [
    "!pip install --upgrade torch torchvision"
   ]
  },
  {
   "cell_type": "code",
   "execution_count": 5,
   "id": "a1a62eb6-a39e-44f0-94f3-5d693a31e054",
   "metadata": {},
   "outputs": [
    {
     "name": "stdout",
     "output_type": "stream",
     "text": [
      "Collecting numpy==1.24.3\n",
      "  Downloading numpy-1.24.3-cp39-cp39-macosx_10_9_x86_64.whl (19.8 MB)\n",
      "\u001b[K     |████████████████████████████████| 19.8 MB 8.8 MB/s eta 0:00:011\n",
      "\u001b[?25hInstalling collected packages: numpy\n",
      "  Attempting uninstall: numpy\n",
      "    Found existing installation: numpy 2.0.2\n",
      "    Uninstalling numpy-2.0.2:\n",
      "      Successfully uninstalled numpy-2.0.2\n",
      "\u001b[31mERROR: pip's dependency resolver does not currently take into account all the packages that are installed. This behaviour is the source of the following dependency conflicts.\n",
      "daal4py 2021.3.0 requires daal==2021.2.3, which is not installed.\n",
      "numba 0.54.1 requires numpy<1.21,>=1.17, but you have numpy 1.24.3 which is incompatible.\u001b[0m\n",
      "Successfully installed numpy-1.24.3\n"
     ]
    }
   ],
   "source": [
    "!pip install numpy==1.24.3"
   ]
  },
  {
   "cell_type": "code",
   "execution_count": null,
   "id": "6ef79032-ef54-4e71-a162-f01cc8a8bcfd",
   "metadata": {},
   "outputs": [],
   "source": []
  },
  {
   "cell_type": "code",
   "execution_count": 10,
   "id": "4b2a732c-8c4d-467c-a649-a0d17365bb5e",
   "metadata": {},
   "outputs": [
    {
     "name": "stdout",
     "output_type": "stream",
     "text": [
      "zsh:1: no such file or directory: 2\n",
      "Note: you may need to restart the kernel to use updated packages.\n"
     ]
    }
   ],
   "source": []
  },
  {
   "cell_type": "code",
   "execution_count": 11,
   "id": "697346c5-7d74-4d3e-bd4a-10cb188fc804",
   "metadata": {},
   "outputs": [
    {
     "name": "stdout",
     "output_type": "stream",
     "text": [
      "Collecting torch==2.0.1\n",
      "  Downloading torch-2.0.1-cp39-none-macosx_10_9_x86_64.whl (143.4 MB)\n",
      "\u001b[K     |████████████████████████████████| 143.4 MB 830 kB/s eta 0:00:01    |██████████████▏                 | 63.6 MB 788 kB/s eta 0:01:42��███████▎        | 104.4 MB 790 kB/s eta 0:00:50     |██████████████████████████████▌ | 136.7 MB 744 kB/s eta 0:00:10\n",
      "\u001b[?25hCollecting torchvision==0.15.2\n",
      "  Downloading torchvision-0.15.2-cp39-cp39-macosx_10_9_x86_64.whl (1.5 MB)\n",
      "\u001b[K     |████████████████████████████████| 1.5 MB 116 kB/s eta 0:00:01\n",
      "\u001b[?25hRequirement already satisfied: jinja2 in /Users/hadong-u/opt/anaconda3/lib/python3.9/site-packages (from torch==2.0.1) (2.11.3)\n",
      "Requirement already satisfied: filelock in /Users/hadong-u/opt/anaconda3/lib/python3.9/site-packages (from torch==2.0.1) (3.15.4)\n",
      "Requirement already satisfied: typing-extensions in /Users/hadong-u/opt/anaconda3/lib/python3.9/site-packages (from torch==2.0.1) (4.12.2)\n",
      "Requirement already satisfied: sympy in /Users/hadong-u/opt/anaconda3/lib/python3.9/site-packages (from torch==2.0.1) (1.9)\n",
      "Requirement already satisfied: networkx in /Users/hadong-u/opt/anaconda3/lib/python3.9/site-packages (from torch==2.0.1) (2.6.3)\n",
      "Requirement already satisfied: pillow!=8.3.*,>=5.3.0 in /Users/hadong-u/opt/anaconda3/lib/python3.9/site-packages (from torchvision==0.15.2) (8.4.0)\n",
      "Requirement already satisfied: numpy in /Users/hadong-u/opt/anaconda3/lib/python3.9/site-packages (from torchvision==0.15.2) (1.24.3)\n",
      "Requirement already satisfied: requests in /Users/hadong-u/opt/anaconda3/lib/python3.9/site-packages (from torchvision==0.15.2) (2.26.0)\n",
      "Requirement already satisfied: MarkupSafe>=0.23 in /Users/hadong-u/opt/anaconda3/lib/python3.9/site-packages (from jinja2->torch==2.0.1) (1.1.1)\n",
      "Requirement already satisfied: idna<4,>=2.5 in /Users/hadong-u/opt/anaconda3/lib/python3.9/site-packages (from requests->torchvision==0.15.2) (3.2)\n",
      "Requirement already satisfied: certifi>=2017.4.17 in /Users/hadong-u/opt/anaconda3/lib/python3.9/site-packages (from requests->torchvision==0.15.2) (2021.10.8)\n",
      "Requirement already satisfied: urllib3<1.27,>=1.21.1 in /Users/hadong-u/opt/anaconda3/lib/python3.9/site-packages (from requests->torchvision==0.15.2) (1.26.7)\n",
      "Requirement already satisfied: charset-normalizer~=2.0.0 in /Users/hadong-u/opt/anaconda3/lib/python3.9/site-packages (from requests->torchvision==0.15.2) (2.0.4)\n",
      "Requirement already satisfied: mpmath>=0.19 in /Users/hadong-u/opt/anaconda3/lib/python3.9/site-packages (from sympy->torch==2.0.1) (1.2.1)\n",
      "Installing collected packages: torch, torchvision\n",
      "  Attempting uninstall: torch\n",
      "    Found existing installation: torch 2.2.2\n",
      "    Uninstalling torch-2.2.2:\n",
      "      Successfully uninstalled torch-2.2.2\n",
      "  Attempting uninstall: torchvision\n",
      "    Found existing installation: torchvision 0.17.2\n",
      "    Uninstalling torchvision-0.17.2:\n",
      "      Successfully uninstalled torchvision-0.17.2\n",
      "Successfully installed torch-2.0.1 torchvision-0.15.2\n",
      "Note: you may need to restart the kernel to use updated packages.\n"
     ]
    }
   ],
   "source": [
    "pip install torch==2.0.1 torchvision==0.15.2"
   ]
  },
  {
   "cell_type": "code",
   "execution_count": 12,
   "id": "f62f5c5f-b287-4c3f-ac69-78c98bd7bec3",
   "metadata": {},
   "outputs": [],
   "source": [
    "import torch\n",
    "from base_predictor import BasePredictor  # BasePredictor 클래스 불러오기\n",
    "from PIL import Image\n",
    "import torchvision.transforms as transforms"
   ]
  },
  {
   "cell_type": "code",
   "execution_count": 28,
   "id": "f59a6d1a-cbe6-4687-9c10-4966c97dc257",
   "metadata": {},
   "outputs": [
    {
     "ename": "NameError",
     "evalue": "name 'predictor_settings' is not defined",
     "output_type": "error",
     "traceback": [
      "\u001b[0;31m---------------------------------------------------------------------------\u001b[0m",
      "\u001b[0;31mNameError\u001b[0m                                 Traceback (most recent call last)",
      "\u001b[0;32m/var/folders/jz/cc4kfb4n4ld6c01wntd3mfy80000gn/T/ipykernel_6144/2493922317.py\u001b[0m in \u001b[0;36m<module>\u001b[0;34m\u001b[0m\n\u001b[1;32m     41\u001b[0m \u001b[0;34m\u001b[0m\u001b[0m\n\u001b[1;32m     42\u001b[0m \u001b[0;31m# 딕셔너리 생성 실행\u001b[0m\u001b[0;34m\u001b[0m\u001b[0;34m\u001b[0m\u001b[0m\n\u001b[0;32m---> 43\u001b[0;31m \u001b[0mattribute_dict\u001b[0m \u001b[0;34m=\u001b[0m \u001b[0mgenerate_attribute_dict\u001b[0m\u001b[0;34m(\u001b[0m\u001b[0mimage_path\u001b[0m\u001b[0;34m)\u001b[0m\u001b[0;34m\u001b[0m\u001b[0;34m\u001b[0m\u001b[0m\n\u001b[0m",
      "\u001b[0;32m/var/folders/jz/cc4kfb4n4ld6c01wntd3mfy80000gn/T/ipykernel_6144/2493922317.py\u001b[0m in \u001b[0;36mgenerate_attribute_dict\u001b[0;34m(image_path)\u001b[0m\n\u001b[1;32m     18\u001b[0m \u001b[0;32mdef\u001b[0m \u001b[0mgenerate_attribute_dict\u001b[0m\u001b[0;34m(\u001b[0m\u001b[0mimage_path\u001b[0m\u001b[0;34m)\u001b[0m\u001b[0;34m:\u001b[0m\u001b[0;34m\u001b[0m\u001b[0;34m\u001b[0m\u001b[0m\n\u001b[1;32m     19\u001b[0m     \u001b[0;31m# ScenePredictor 인스턴스 생성\u001b[0m\u001b[0;34m\u001b[0m\u001b[0;34m\u001b[0m\u001b[0m\n\u001b[0;32m---> 20\u001b[0;31m     \u001b[0mpredictor\u001b[0m \u001b[0;34m=\u001b[0m \u001b[0mScenePredictor\u001b[0m\u001b[0;34m(\u001b[0m\u001b[0;34m)\u001b[0m  \u001b[0;31m# 'scene' 또는 적절한 설정 이름 사용\u001b[0m\u001b[0;34m\u001b[0m\u001b[0;34m\u001b[0m\u001b[0m\n\u001b[0m\u001b[1;32m     21\u001b[0m     \u001b[0mpredictor\u001b[0m\u001b[0;34m.\u001b[0m\u001b[0meval\u001b[0m\u001b[0;34m(\u001b[0m\u001b[0;34m)\u001b[0m  \u001b[0;31m# 평가 모드로 설정\u001b[0m\u001b[0;34m\u001b[0m\u001b[0;34m\u001b[0m\u001b[0m\n\u001b[1;32m     22\u001b[0m \u001b[0;34m\u001b[0m\u001b[0m\n",
      "\u001b[0;32m~/Lumterior_ex/scene_predictor.py\u001b[0m in \u001b[0;36m__init__\u001b[0;34m(self)\u001b[0m\n\u001b[1;32m     22\u001b[0m \u001b[0;34m\u001b[0m\u001b[0m\n\u001b[1;32m     23\u001b[0m   \u001b[0;32mdef\u001b[0m \u001b[0m__init__\u001b[0m\u001b[0;34m(\u001b[0m\u001b[0mself\u001b[0m\u001b[0;34m)\u001b[0m\u001b[0;34m:\u001b[0m\u001b[0;34m\u001b[0m\u001b[0;34m\u001b[0m\u001b[0m\n\u001b[0;32m---> 24\u001b[0;31m     \u001b[0msuper\u001b[0m\u001b[0;34m(\u001b[0m\u001b[0;34m)\u001b[0m\u001b[0;34m.\u001b[0m\u001b[0m__init__\u001b[0m\u001b[0;34m(\u001b[0m\u001b[0;34m'scene'\u001b[0m\u001b[0;34m)\u001b[0m\u001b[0;34m\u001b[0m\u001b[0;34m\u001b[0m\u001b[0m\n\u001b[0m\u001b[1;32m     25\u001b[0m \u001b[0;34m\u001b[0m\u001b[0m\n\u001b[1;32m     26\u001b[0m   \u001b[0;32mdef\u001b[0m \u001b[0mbuild\u001b[0m\u001b[0;34m(\u001b[0m\u001b[0mself\u001b[0m\u001b[0;34m)\u001b[0m\u001b[0;34m:\u001b[0m\u001b[0;34m\u001b[0m\u001b[0;34m\u001b[0m\u001b[0m\n",
      "\u001b[0;32m~/Lumterior_ex/base_predictor.py\u001b[0m in \u001b[0;36m__init__\u001b[0;34m(self, predictor_name)\u001b[0m\n\u001b[1;32m     40\u001b[0m \u001b[0;34m\u001b[0m\u001b[0m\n\u001b[1;32m     41\u001b[0m     \u001b[0;31m# Parse settings.\u001b[0m\u001b[0;34m\u001b[0m\u001b[0;34m\u001b[0m\u001b[0m\n\u001b[0;32m---> 42\u001b[0;31m     \u001b[0;32mfor\u001b[0m \u001b[0mkey\u001b[0m\u001b[0;34m,\u001b[0m \u001b[0mval\u001b[0m \u001b[0;32min\u001b[0m \u001b[0mpredictor_settings\u001b[0m\u001b[0;34m.\u001b[0m\u001b[0mPREDICTOR_POOL\u001b[0m\u001b[0;34m[\u001b[0m\u001b[0mpredictor_name\u001b[0m\u001b[0;34m]\u001b[0m\u001b[0;34m.\u001b[0m\u001b[0mitems\u001b[0m\u001b[0;34m(\u001b[0m\u001b[0;34m)\u001b[0m\u001b[0;34m:\u001b[0m\u001b[0;34m\u001b[0m\u001b[0;34m\u001b[0m\u001b[0m\n\u001b[0m\u001b[1;32m     43\u001b[0m       \u001b[0msetattr\u001b[0m\u001b[0;34m(\u001b[0m\u001b[0mself\u001b[0m\u001b[0;34m,\u001b[0m \u001b[0mkey\u001b[0m\u001b[0;34m,\u001b[0m \u001b[0mval\u001b[0m\u001b[0;34m)\u001b[0m\u001b[0;34m\u001b[0m\u001b[0;34m\u001b[0m\u001b[0m\n\u001b[1;32m     44\u001b[0m     \u001b[0mself\u001b[0m\u001b[0;34m.\u001b[0m\u001b[0muse_cuda\u001b[0m \u001b[0;34m=\u001b[0m \u001b[0mpredictor_settings\u001b[0m\u001b[0;34m.\u001b[0m\u001b[0mUSE_CUDA\u001b[0m \u001b[0;32mand\u001b[0m \u001b[0mtorch\u001b[0m\u001b[0;34m.\u001b[0m\u001b[0mcuda\u001b[0m\u001b[0;34m.\u001b[0m\u001b[0mis_available\u001b[0m\u001b[0;34m(\u001b[0m\u001b[0;34m)\u001b[0m\u001b[0;34m\u001b[0m\u001b[0;34m\u001b[0m\u001b[0m\n",
      "\u001b[0;31mNameError\u001b[0m: name 'predictor_settings' is not defined"
     ]
    }
   ],
   "source": [
    "import torch\n",
    "from scene_predictor import ScenePredictor  # ScenePredictor 클래스가 정의된 파일\n",
    "from PIL import Image\n",
    "import torchvision.transforms as transforms\n",
    "\n",
    "# 이미지 로드 및 전처리 함수 정의\n",
    "def load_image(image_path):\n",
    "    \"\"\"이미지를 모델 입력 형태로 변환.\"\"\"\n",
    "    image = Image.open(image_path).convert('RGB')\n",
    "    transform = transforms.Compose([\n",
    "        transforms.Resize((256, 256)),\n",
    "        transforms.ToTensor(),\n",
    "    ])\n",
    "    image = transform(image).unsqueeze(0)  # 배치 차원 추가\n",
    "    return image\n",
    "\n",
    "# 모델 설정 및 딕셔너리 생성\n",
    "def generate_attribute_dict(image_path):\n",
    "    # ScenePredictor 인스턴스 생성\n",
    "    predictor = ScenePredictor()  # 'scene' 또는 적절한 설정 이름 사용\n",
    "    predictor.eval()  # 평가 모드로 설정\n",
    "\n",
    "    # 예제 이미지 로드\n",
    "    input_image = load_image(image_path)\n",
    "\n",
    "    # 속성 이름과 인덱스를 매핑하는 딕셔너리 생성\n",
    "    attribute_dict = predictor.attribute_idx_to_name\n",
    "\n",
    "    # 예측 실행\n",
    "    with torch.no_grad():\n",
    "        predictions = predictor.predict(input_image)\n",
    "\n",
    "    # 결과 출력\n",
    "    print(\"Attribute Index to Name Mapping:\")\n",
    "    print(attribute_dict)\n",
    "\n",
    "    return attribute_dict\n",
    "\n",
    "# 예제 이미지 경로\n",
    "image_path = 'path/to/your/image.jpg'  # 분석할 이미지 경로로 변경\n",
    "\n",
    "# 딕셔너리 생성 실행\n",
    "attribute_dict = generate_attribute_dict(image_path)\n"
   ]
  },
  {
   "cell_type": "code",
   "execution_count": null,
   "id": "112beb29-3584-418f-a549-85a9cdce4449",
   "metadata": {},
   "outputs": [],
   "source": []
  }
 ],
 "metadata": {
  "kernelspec": {
   "display_name": "Python 3 (ipykernel)",
   "language": "python",
   "name": "python3"
  },
  "language_info": {
   "codemirror_mode": {
    "name": "ipython",
    "version": 3
   },
   "file_extension": ".py",
   "mimetype": "text/x-python",
   "name": "python",
   "nbconvert_exporter": "python",
   "pygments_lexer": "ipython3",
   "version": "3.9.7"
  }
 },
 "nbformat": 4,
 "nbformat_minor": 5
}
